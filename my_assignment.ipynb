{
 "cells": [
  {
   "cell_type": "code",
   "execution_count": 11,
   "id": "adb1c151",
   "metadata": {},
   "outputs": [
    {
     "data": {
      "text/plain": [
       "1"
      ]
     },
     "execution_count": 11,
     "metadata": {},
     "output_type": "execute_result"
    }
   ],
   "source": [
    "7%2#(%)"
   ]
  },
  {
   "cell_type": "code",
   "execution_count": 1,
   "id": "bf17f701",
   "metadata": {},
   "outputs": [
    {
     "data": {
      "text/plain": [
       "0"
      ]
     },
     "execution_count": 1,
     "metadata": {},
     "output_type": "execute_result"
    }
   ],
   "source": [
    "2//3"
   ]
  },
  {
   "cell_type": "code",
   "execution_count": 2,
   "id": "25bda154",
   "metadata": {},
   "outputs": [
    {
     "data": {
      "text/plain": [
       "1"
      ]
     },
     "execution_count": 2,
     "metadata": {},
     "output_type": "execute_result"
    }
   ],
   "source": [
    "6>>2"
   ]
  },
  {
   "cell_type": "code",
   "execution_count": 3,
   "id": "27044b77",
   "metadata": {},
   "outputs": [
    {
     "data": {
      "text/plain": [
       "2"
      ]
     },
     "execution_count": 3,
     "metadata": {},
     "output_type": "execute_result"
    }
   ],
   "source": [
    "6&2"
   ]
  },
  {
   "cell_type": "code",
   "execution_count": 4,
   "id": "36ad16b3",
   "metadata": {},
   "outputs": [
    {
     "data": {
      "text/plain": [
       "6"
      ]
     },
     "execution_count": 4,
     "metadata": {},
     "output_type": "execute_result"
    }
   ],
   "source": [
    "6|2"
   ]
  },
  {
   "cell_type": "code",
   "execution_count": 5,
   "id": "dd199acd",
   "metadata": {},
   "outputs": [],
   "source": [
    "#the finally block will execute no matter what"
   ]
  },
  {
   "cell_type": "code",
   "execution_count": 6,
   "id": "f979ff21",
   "metadata": {},
   "outputs": [],
   "source": [
    "#to raise an exception\n"
   ]
  },
  {
   "cell_type": "code",
   "execution_count": 7,
   "id": "4027cbb2",
   "metadata": {},
   "outputs": [],
   "source": [
    "#in def a generater"
   ]
  },
  {
   "cell_type": "code",
   "execution_count": 12,
   "id": "d70b39e7",
   "metadata": {},
   "outputs": [],
   "source": [
    "#a,c\n"
   ]
  },
  {
   "cell_type": "code",
   "execution_count": 16,
   "id": "e6444810",
   "metadata": {},
   "outputs": [],
   "source": [
    "#Write a python program to find the factorial of a number."
   ]
  },
  {
   "cell_type": "code",
   "execution_count": 18,
   "id": "9f7532ba",
   "metadata": {},
   "outputs": [
    {
     "name": "stdout",
     "output_type": "stream",
     "text": [
      "Enter the number: 4\n",
      "The factorial of  0  is  24\n"
     ]
    }
   ],
   "source": [
    "fact = 1\n",
    "num = int (input(\"Enter the number: \"))\n",
    "while num > 0:\n",
    "    fact = fact * num\n",
    "    num = num - 1\n",
    "print (\"The factorial of \", num ,\" is \", fact)"
   ]
  },
  {
   "cell_type": "code",
   "execution_count": 19,
   "id": "6f7f2738",
   "metadata": {},
   "outputs": [
    {
     "name": "stdout",
     "output_type": "stream",
     "text": [
      "Enter the number: 5\n",
      "The factorial of  5  is  120\n"
     ]
    }
   ],
   "source": [
    "fact = 1\n",
    "num = int (input(\"Enter the number: \"))\n",
    "org = num\n",
    "while num > 0:\n",
    "    fact = fact * num\n",
    "    num = num - 1\n",
    "print (\"The factorial of \", org ,\" is \", fact)\n"
   ]
  },
  {
   "cell_type": "markdown",
   "id": "b9d3f837",
   "metadata": {},
   "source": [
    "Write a python program to find whether a number is prime or composite"
   ]
  },
  {
   "cell_type": "code",
   "execution_count": 20,
   "id": "ca6bd0c5",
   "metadata": {},
   "outputs": [
    {
     "name": "stdout",
     "output_type": "stream",
     "text": [
      "Enter the number: 2\n",
      "The number is prime\n"
     ]
    }
   ],
   "source": [
    "num = int (input(\"Enter the number: \"))\n",
    "flag = 0\n",
    "for i in range(2, num):\n",
    "    if (num % i == 0):\n",
    "        flag = 1\n",
    "        break\n",
    "        \n",
    "if (flag == 0):\n",
    "    print(\"The number is prime\")\n",
    "else:\n",
    "    print(\"The number is composite\")"
   ]
  },
  {
   "cell_type": "code",
   "execution_count": 21,
   "id": "bb0e8187",
   "metadata": {},
   "outputs": [
    {
     "name": "stdout",
     "output_type": "stream",
     "text": [
      "Enter the number: 14\n",
      "The number is composite\n"
     ]
    }
   ],
   "source": [
    "num = int (input(\"Enter the number: \"))\n",
    "flag = 0\n",
    "for i in range(2, num):\n",
    "    if (num % i == 0):\n",
    "        flag = 1\n",
    "        break\n",
    "        \n",
    "if (flag == 0):\n",
    "    print(\"The number is prime\")\n",
    "else:\n",
    "    print(\"The number is composite\")\n",
    "\n"
   ]
  },
  {
   "cell_type": "markdown",
   "id": "98031b5f",
   "metadata": {},
   "source": [
    "Write a python program to check whether a given string is palindrome or not"
   ]
  },
  {
   "cell_type": "code",
   "execution_count": 22,
   "id": "d7fe8fcd",
   "metadata": {},
   "outputs": [
    {
     "ename": "SyntaxError",
     "evalue": "invalid syntax (<ipython-input-22-3c8010d0d995>, line 3)",
     "output_type": "error",
     "traceback": [
      "\u001b[1;36m  File \u001b[1;32m\"<ipython-input-22-3c8010d0d995>\"\u001b[1;36m, line \u001b[1;32m3\u001b[0m\n\u001b[1;33m    if num == rev\u001b[0m\n\u001b[1;37m                 ^\u001b[0m\n\u001b[1;31mSyntaxError\u001b[0m\u001b[1;31m:\u001b[0m invalid syntax\n"
     ]
    }
   ],
   "source": [
    "num = 123\n",
    "\n",
    "if num == rev\n",
    "    palindrome\n",
    "else\n",
    "    Not a palindrome\n",
    "    \n",
    "    \n",
    "rev = 0\n",
    "\n",
    "Iteration 1\n",
    "\n",
    "rem = num % 10 = 123 % 10 = 3\n",
    "rev = rev * 10 + rem = 3\n",
    "num = num // 10 = 123 // 10 = 12\n",
    "\n",
    "Iteration 2\n",
    "\n",
    "rem = num % 10 = 12 % 10 = 2\n",
    "rev = rev * 10 + rem = 30 + 2 = 32\n",
    "num = num // 10 = 12 // 10 = 1\n",
    "\n",
    "Iteration 3\n",
    "\n",
    "rem = num % 10 = 1 % 10 = 1\n",
    "rev = rev * 10 + rem = 320 + 1 = 321\n",
    "num = num // 10 = 1 // 10 = 0\n",
    "\n",
    "  "
   ]
  },
  {
   "cell_type": "code",
   "execution_count": 30,
   "id": "b6e2c045",
   "metadata": {},
   "outputs": [
    {
     "name": "stdout",
     "output_type": "stream",
     "text": [
      "Enter the number:4\n",
      "The reverse of  4 is  4\n",
      "The number  4 is Palindrome\n"
     ]
    }
   ],
   "source": [
    "num = int (input(\"Enter the number:\"))\n",
    "org = num\n",
    "rev = 0\n",
    "\n",
    "while num > 0:\n",
    "    rem = num % 10\n",
    "    rev = rev * 10 + rem\n",
    "    num = num // 10\n",
    "    \n",
    "print (\"The reverse of \", org, \"is \", rev)\n",
    "if rev == org:\n",
    "    print (\"The number \",org,\"is Palindrome\")\n",
    "else:\n",
    "    print (\"The number \", org, \"is not a Palindrome\")"
   ]
  },
  {
   "cell_type": "code",
   "execution_count": 25,
   "id": "9dd3267f",
   "metadata": {},
   "outputs": [
    {
     "name": "stdout",
     "output_type": "stream",
     "text": [
      "Input lengths of shorter triangle sides:\n",
      "a : 9\n",
      "b : 8\n",
      "The length of the hypotenuse is: 12.041594578792296\n"
     ]
    }
   ],
   "source": [
    "#Write a Python program to get the third side of right-angled triangle from two given sides\n",
    "from math import sqrt\n",
    "print(\"Input lengths of shorter triangle sides:\")\n",
    "a = float(input(\"a : \"))\n",
    "b = float(input(\"b : \"))\n",
    "c = sqrt(a**2 + b**2)\n",
    "print(\"The length of the hypotenuse is:\",c)\n"
   ]
  },
  {
   "cell_type": "code",
   "execution_count": 29,
   "id": "165f9f06",
   "metadata": {},
   "outputs": [
    {
     "name": "stdout",
     "output_type": "stream",
     "text": [
      "Enter the stringuuuuuuuuuuuuuuuuuuuu\n",
      "{'u': 20}\n"
     ]
    }
   ],
   "source": [
    "#Write a python program to print the frequency of each of the characters present in a given string\n",
    "str1 = input (\"Enter the string\")\n",
    "d1 = dict()\n",
    "for c in str1:\n",
    "    if c in d1:\n",
    "        d1[c] = d1[c] + 1\n",
    "    else:\n",
    "        d1[c]=1\n",
    "print (d1)"
   ]
  },
  {
   "cell_type": "code",
   "execution_count": null,
   "id": "c2c163af",
   "metadata": {},
   "outputs": [],
   "source": []
  }
 ],
 "metadata": {
  "kernelspec": {
   "display_name": "Python 3",
   "language": "python",
   "name": "python3"
  },
  "language_info": {
   "codemirror_mode": {
    "name": "ipython",
    "version": 3
   },
   "file_extension": ".py",
   "mimetype": "text/x-python",
   "name": "python",
   "nbconvert_exporter": "python",
   "pygments_lexer": "ipython3",
   "version": "3.8.8"
  }
 },
 "nbformat": 4,
 "nbformat_minor": 5
}
